{
 "metadata": {
  "language_info": {
   "codemirror_mode": {
    "name": "ipython",
    "version": 3
   },
   "file_extension": ".py",
   "mimetype": "text/x-python",
   "name": "python",
   "nbconvert_exporter": "python",
   "pygments_lexer": "ipython3",
   "version": "3.8.5"
  },
  "orig_nbformat": 2,
  "kernelspec": {
   "name": "python3",
   "display_name": "Python 3.8.5 64-bit (conda)",
   "metadata": {
    "interpreter": {
     "hash": "c12000a0800c9151965cb0e7b991326abd113192d8057aafe66cbd9b498c5a0a"
    }
   }
  }
 },
 "nbformat": 4,
 "nbformat_minor": 2,
 "cells": [
  {
   "cell_type": "code",
   "execution_count": 3,
   "metadata": {},
   "outputs": [],
   "source": [
    "import pandas as pd\n",
    "import numpy as np\n",
    "import logisticregression as lr"
   ]
  },
  {
   "cell_type": "code",
   "execution_count": 4,
   "metadata": {},
   "outputs": [],
   "source": [
    "class Feature:\n",
    "    def __init__(self, name, dataset):\n",
    "        self.name = name\n",
    "        self.sorted_dataset = sorted(dataset)\n",
    "        self.count = len(dataset)\n",
    "        if self.count != 0:\n",
    "            self.mean = sum(dataset) / self.count\n",
    "            self.std = self.calc_std(dataset)\n",
    "            self.min = self.sorted_dataset[0]\n",
    "            self.p_25 = self.calc_percentiles(25)\n",
    "            self.p_50 = self.calc_percentiles(50)\n",
    "            self.p_75 = self.calc_percentiles(75)\n",
    "            self.max = self.sorted_dataset[-1]\n",
    "            self.infos = [self.count, self.mean, self.std, self.min, self.p_25, self.p_50, self.p_75, self.max]\n",
    "        else:\n",
    "            self.infos = [self.count]\n",
    "            self.infos.extend([np.nan] * 7)\n",
    "    \n",
    "    def calc_std(self, dataset):\n",
    "        # sum_squares = 0\n",
    "        dataset = dataset.reshape(-1,1).T\n",
    "        # print(f\"{dataset.reshape(-1,1).T.shape = }\")\n",
    "        sum_squares = (dataset - self.mean) ** 2\n",
    "        # for i in range(len(dataset)):\n",
    "        #     sum_squares += (dataset[i] - self.mean) ** 2\n",
    "        std = sum_squares / (self.count - 1)\n",
    "        std = std ** 0.5\n",
    "        return std\n",
    "    \n",
    "    def calc_percentiles(self, quartile):\n",
    "        position_floaty = (float(quartile) / 100) * (self.count - 1)\n",
    "        min_position = int(position_floaty)\n",
    "        max_position = min_position + 1\n",
    "        max_coef = position_floaty - min_position\n",
    "        if max_coef == 0.0:\n",
    "            return self.sorted_dataset[min_position]\n",
    "        min_coef = 1 - max_coef\n",
    "        result_min = (self.sorted_dataset[min_position] * min_coef)\n",
    "        result_max = (self.sorted_dataset[max_position] * max_coef)\n",
    "        return result_min + result_max "
   ]
  },
  {
   "cell_type": "code",
   "execution_count": 5,
   "metadata": {},
   "outputs": [],
   "source": [
    "\n",
    "def parse_arguments(args):\n",
    "    ### TODO : parse arguments\n",
    "    dataset_name = \"datasets/dataset_train.csv\"\n",
    "    list_params = [\"count\", \"mean\", \"std\", \"min\", \"25%\", \"50%\", \"75%\", \"max\"]\n",
    "    return(dataset_name, list_params)\n",
    "\n",
    "\n",
    "class Dataset:\n",
    "    def __init__(self, datafile, list_params):\n",
    "        if datafile:\n",
    "            self.read_csv(datafile)\n",
    "        self.list_params = list_params\n",
    "    \n",
    "    def read_csv(self, dataset_name):\n",
    "        try:\n",
    "            df = pd.read_csv(dataset_name)\n",
    "            self.features = list(df.select_dtypes(exclude=['object']).columns)\n",
    "            self.X = df[self.features].to_numpy()\n",
    "            self.X = self.X.T\n",
    "            one_hot_encoding = pd.get_dummies(df[\"Hogwarts House\"], drop_first = False)\n",
    "            self.houses = list(one_hot_encoding.columns)\n",
    "            self.y = one_hot_encoding.to_numpy()\n",
    "            self.input_df = df\n",
    "        except FileNotFoundError:\n",
    "            print(f\"No such file or directory: '{dataset_name}'\")\n",
    "        except pd.errors.EmptyDataError:\n",
    "            print(f\"No columns to parse from file: '{dataset_name}'\")\n",
    "        return (None)\n",
    "    \n",
    "    def init_describe_df(self):\n",
    "        self.output_df = pd.DataFrame(data = None, index = self.list_params)\n",
    "\n",
    "    \n",
    "    def clear_empty_values(self, X):\n",
    "        X = X[~np.isnan(X)]\n",
    "        return (X)\n",
    "\n",
    "    def fill_output_df(self):\n",
    "        for index, feature_name in enumerate(self.features):\n",
    "            self.clear_empty_values(self.X[index])\n",
    "            feature = Feature(feature_name, self.X[index])\n",
    "            self.output_df[feature_name] = feature.infos"
   ]
  },
  {
   "cell_type": "code",
   "execution_count": 6,
   "metadata": {},
   "outputs": [
    {
     "output_type": "stream",
     "name": "stdout",
     "text": [
      "14\n['Gryffindor', 'Hufflepuff', 'Ravenclaw', 'Slytherin']\n(14, 1600)\n"
     ]
    }
   ],
   "source": [
    "dataset_name, list_params = parse_arguments(None)\n",
    "data = Dataset(dataset_name, list_params)\n",
    "print(len(data.features))\n",
    "print(data.houses)\n",
    "print(data.X.shape)\n",
    "data.init_describe_df()\n",
    "data.fill_output_df()\n",
    "#     display(output_df)"
   ]
  },
  {
   "cell_type": "code",
   "execution_count": 7,
   "metadata": {},
   "outputs": [
    {
     "output_type": "execute_result",
     "data": {
      "text/plain": [
       "                                                   Index  \\\n",
       "count                                               1600   \n",
       "mean                                               799.5   \n",
       "std    [[19.993749023132207, 19.968741206968186, 19.9...   \n",
       "min                                                  0.0   \n",
       "25%                                               399.75   \n",
       "50%                                                799.5   \n",
       "75%                                              1199.25   \n",
       "max                                               1599.0   \n",
       "\n",
       "                                              Arithmancy  \\\n",
       "count                                               1600   \n",
       "mean                                                 NaN   \n",
       "std    [[nan, nan, nan, nan, nan, nan, nan, nan, nan,...   \n",
       "min                                              -2464.0   \n",
       "25%                                             53711.75   \n",
       "50%                                              69534.5   \n",
       "75%                                              54775.5   \n",
       "max                                              82713.0   \n",
       "\n",
       "                                               Astronomy  \\\n",
       "count                                               1600   \n",
       "mean                                                 NaN   \n",
       "std    [[nan, nan, nan, nan, nan, nan, nan, nan, nan,...   \n",
       "min                                          -834.475335   \n",
       "25%                                                  NaN   \n",
       "50%                                          -625.394544   \n",
       "75%                                           487.167177   \n",
       "max                                           723.816839   \n",
       "\n",
       "                                               Herbology  \\\n",
       "count                                               1600   \n",
       "mean                                                 NaN   \n",
       "std    [[nan, nan, nan, nan, nan, nan, nan, nan, nan,...   \n",
       "min                                           -10.295663   \n",
       "25%                                             4.939898   \n",
       "50%                                             6.370291   \n",
       "75%                                             5.165495   \n",
       "max                                              8.46534   \n",
       "\n",
       "                           Defense Against the Dark Arts  \\\n",
       "count                                               1600   \n",
       "mean                                                 NaN   \n",
       "std    [[nan, nan, nan, nan, nan, nan, nan, nan, nan,...   \n",
       "min                                            -7.413409   \n",
       "25%                                             -6.24599   \n",
       "50%                                                  NaN   \n",
       "75%                                                  NaN   \n",
       "max                                              8.17917   \n",
       "\n",
       "                                              Divination  \\\n",
       "count                                               1600   \n",
       "mean                                                 NaN   \n",
       "std    [[nan, nan, nan, nan, nan, nan, nan, nan, nan,...   \n",
       "min                                               -7.964   \n",
       "25%                                               5.8715   \n",
       "50%                                                 1.75   \n",
       "75%                                             -8.55325   \n",
       "max                                                8.445   \n",
       "\n",
       "                                          Muggle Studies  \\\n",
       "count                                               1600   \n",
       "mean                                                 NaN   \n",
       "std    [[nan, nan, nan, nan, nan, nan, nan, nan, nan,...   \n",
       "min                                          -926.892512   \n",
       "25%                                                  NaN   \n",
       "50%                                          -906.934757   \n",
       "75%                                          -721.768614   \n",
       "max                                                  NaN   \n",
       "\n",
       "                                           Ancient Runes  \\\n",
       "count                                               1600   \n",
       "mean                                                 NaN   \n",
       "std    [[nan, nan, nan, nan, nan, nan, nan, nan, nan,...   \n",
       "min                                            298.21896   \n",
       "25%                                           600.838521   \n",
       "50%                                           353.044548   \n",
       "75%                                           343.807317   \n",
       "max                                           665.216678   \n",
       "\n",
       "                                        History of Magic  \\\n",
       "count                                               1600   \n",
       "mean                                                 NaN   \n",
       "std    [[nan, nan, nan, nan, nan, nan, nan, nan, nan,...   \n",
       "min                                            -7.322486   \n",
       "25%                                                  NaN   \n",
       "50%                                                  NaN   \n",
       "75%                                                  NaN   \n",
       "max                                             7.208415   \n",
       "\n",
       "                                         Transfiguration  \\\n",
       "count                                               1600   \n",
       "mean                                                 NaN   \n",
       "std    [[nan, nan, nan, nan, nan, nan, nan, nan, nan,...   \n",
       "min                                           907.190274   \n",
       "25%                                           963.123324   \n",
       "50%                                           930.770252   \n",
       "75%                                                  NaN   \n",
       "max                                          1087.949205   \n",
       "\n",
       "                                                 Potions  \\\n",
       "count                                               1600   \n",
       "mean                                                 NaN   \n",
       "std    [[nan, nan, nan, nan, nan, nan, nan, nan, nan,...   \n",
       "min                                            -1.404884   \n",
       "25%                                             7.230894   \n",
       "50%                                             2.669934   \n",
       "75%                                                  NaN   \n",
       "max                                              12.3826   \n",
       "\n",
       "                               Care of Magical Creatures  \\\n",
       "count                                               1600   \n",
       "mean                                                 NaN   \n",
       "std    [[nan, nan, nan, nan, nan, nan, nan, nan, nan,...   \n",
       "min                                            -2.002451   \n",
       "25%                                                  NaN   \n",
       "50%                                            -2.680301   \n",
       "75%                                             0.263624   \n",
       "max                                                  NaN   \n",
       "\n",
       "                                                  Charms  \\\n",
       "count                                               1600   \n",
       "mean                                         -243.374409   \n",
       "std    [[0.2645916731339085, 0.22031488384962863, 0.4...   \n",
       "min                                           -261.04892   \n",
       "25%                                            -250.6526   \n",
       "50%                                          -244.867765   \n",
       "75%                                          -232.552305   \n",
       "max                                           -225.42814   \n",
       "\n",
       "                                                  Flying  \n",
       "count                                               1600  \n",
       "mean                                           21.958012  \n",
       "std    [[1.2215821165776415, 3.3862586837350195, 0.21...  \n",
       "min                                              -181.47  \n",
       "25%                                               -41.87  \n",
       "50%                                               -2.515  \n",
       "75%                                                50.56  \n",
       "max                                               279.07  "
      ],
      "text/html": "<div>\n<style scoped>\n    .dataframe tbody tr th:only-of-type {\n        vertical-align: middle;\n    }\n\n    .dataframe tbody tr th {\n        vertical-align: top;\n    }\n\n    .dataframe thead th {\n        text-align: right;\n    }\n</style>\n<table border=\"1\" class=\"dataframe\">\n  <thead>\n    <tr style=\"text-align: right;\">\n      <th></th>\n      <th>Index</th>\n      <th>Arithmancy</th>\n      <th>Astronomy</th>\n      <th>Herbology</th>\n      <th>Defense Against the Dark Arts</th>\n      <th>Divination</th>\n      <th>Muggle Studies</th>\n      <th>Ancient Runes</th>\n      <th>History of Magic</th>\n      <th>Transfiguration</th>\n      <th>Potions</th>\n      <th>Care of Magical Creatures</th>\n      <th>Charms</th>\n      <th>Flying</th>\n    </tr>\n  </thead>\n  <tbody>\n    <tr>\n      <th>count</th>\n      <td>1600</td>\n      <td>1600</td>\n      <td>1600</td>\n      <td>1600</td>\n      <td>1600</td>\n      <td>1600</td>\n      <td>1600</td>\n      <td>1600</td>\n      <td>1600</td>\n      <td>1600</td>\n      <td>1600</td>\n      <td>1600</td>\n      <td>1600</td>\n      <td>1600</td>\n    </tr>\n    <tr>\n      <th>mean</th>\n      <td>799.5</td>\n      <td>NaN</td>\n      <td>NaN</td>\n      <td>NaN</td>\n      <td>NaN</td>\n      <td>NaN</td>\n      <td>NaN</td>\n      <td>NaN</td>\n      <td>NaN</td>\n      <td>NaN</td>\n      <td>NaN</td>\n      <td>NaN</td>\n      <td>-243.374409</td>\n      <td>21.958012</td>\n    </tr>\n    <tr>\n      <th>std</th>\n      <td>[[19.993749023132207, 19.968741206968186, 19.9...</td>\n      <td>[[nan, nan, nan, nan, nan, nan, nan, nan, nan,...</td>\n      <td>[[nan, nan, nan, nan, nan, nan, nan, nan, nan,...</td>\n      <td>[[nan, nan, nan, nan, nan, nan, nan, nan, nan,...</td>\n      <td>[[nan, nan, nan, nan, nan, nan, nan, nan, nan,...</td>\n      <td>[[nan, nan, nan, nan, nan, nan, nan, nan, nan,...</td>\n      <td>[[nan, nan, nan, nan, nan, nan, nan, nan, nan,...</td>\n      <td>[[nan, nan, nan, nan, nan, nan, nan, nan, nan,...</td>\n      <td>[[nan, nan, nan, nan, nan, nan, nan, nan, nan,...</td>\n      <td>[[nan, nan, nan, nan, nan, nan, nan, nan, nan,...</td>\n      <td>[[nan, nan, nan, nan, nan, nan, nan, nan, nan,...</td>\n      <td>[[nan, nan, nan, nan, nan, nan, nan, nan, nan,...</td>\n      <td>[[0.2645916731339085, 0.22031488384962863, 0.4...</td>\n      <td>[[1.2215821165776415, 3.3862586837350195, 0.21...</td>\n    </tr>\n    <tr>\n      <th>min</th>\n      <td>0.0</td>\n      <td>-2464.0</td>\n      <td>-834.475335</td>\n      <td>-10.295663</td>\n      <td>-7.413409</td>\n      <td>-7.964</td>\n      <td>-926.892512</td>\n      <td>298.21896</td>\n      <td>-7.322486</td>\n      <td>907.190274</td>\n      <td>-1.404884</td>\n      <td>-2.002451</td>\n      <td>-261.04892</td>\n      <td>-181.47</td>\n    </tr>\n    <tr>\n      <th>25%</th>\n      <td>399.75</td>\n      <td>53711.75</td>\n      <td>NaN</td>\n      <td>4.939898</td>\n      <td>-6.24599</td>\n      <td>5.8715</td>\n      <td>NaN</td>\n      <td>600.838521</td>\n      <td>NaN</td>\n      <td>963.123324</td>\n      <td>7.230894</td>\n      <td>NaN</td>\n      <td>-250.6526</td>\n      <td>-41.87</td>\n    </tr>\n    <tr>\n      <th>50%</th>\n      <td>799.5</td>\n      <td>69534.5</td>\n      <td>-625.394544</td>\n      <td>6.370291</td>\n      <td>NaN</td>\n      <td>1.75</td>\n      <td>-906.934757</td>\n      <td>353.044548</td>\n      <td>NaN</td>\n      <td>930.770252</td>\n      <td>2.669934</td>\n      <td>-2.680301</td>\n      <td>-244.867765</td>\n      <td>-2.515</td>\n    </tr>\n    <tr>\n      <th>75%</th>\n      <td>1199.25</td>\n      <td>54775.5</td>\n      <td>487.167177</td>\n      <td>5.165495</td>\n      <td>NaN</td>\n      <td>-8.55325</td>\n      <td>-721.768614</td>\n      <td>343.807317</td>\n      <td>NaN</td>\n      <td>NaN</td>\n      <td>NaN</td>\n      <td>0.263624</td>\n      <td>-232.552305</td>\n      <td>50.56</td>\n    </tr>\n    <tr>\n      <th>max</th>\n      <td>1599.0</td>\n      <td>82713.0</td>\n      <td>723.816839</td>\n      <td>8.46534</td>\n      <td>8.17917</td>\n      <td>8.445</td>\n      <td>NaN</td>\n      <td>665.216678</td>\n      <td>7.208415</td>\n      <td>1087.949205</td>\n      <td>12.3826</td>\n      <td>NaN</td>\n      <td>-225.42814</td>\n      <td>279.07</td>\n    </tr>\n  </tbody>\n</table>\n</div>"
     },
     "metadata": {},
     "execution_count": 7
    }
   ],
   "source": [
    "data.output_df"
   ]
  },
  {
   "cell_type": "code",
   "execution_count": 63,
   "metadata": {},
   "outputs": [],
   "source": [
    "test = pd.read_csv(\"datasets/test.csv\", index_col=None)"
   ]
  },
  {
   "cell_type": "code",
   "execution_count": 65,
   "metadata": {},
   "outputs": [],
   "source": [
    "features = list(test.columns[6:]) ### TODO: rajouter option features\n",
    "X = test[features].to_numpy()"
   ]
  },
  {
   "cell_type": "code",
   "execution_count": 64,
   "metadata": {},
   "outputs": [
    {
     "output_type": "execute_result",
     "data": {
      "text/plain": [
       "   Index Hogwarts House  Last Name    Birthday Best Hand  Arithmancy  \\\n",
       "0      0      Ravenclaw        Hsu  2000-03-30      Left     58384.0   \n",
       "1      1      Slytherin    Paredes  1999-10-14     Right     67239.0   \n",
       "2      2      Ravenclaw      Braun  1999-11-03      Left     23702.0   \n",
       "3      3     Gryffindor  Mcmichael  2000-08-19      Left     32667.0   \n",
       "4      4     Gryffindor      Gibbs  1998-09-27      Left     60158.0   \n",
       "\n",
       "    Astronomy  Herbology  Defense Against the Dark Arts  Divination  \\\n",
       "0 -487.886086   5.727180                       4.878861       4.722   \n",
       "1 -552.060507  -5.987446                       5.520605      -5.612   \n",
       "2 -366.076117   7.725017                       3.660761       6.140   \n",
       "3  697.742809  -6.497214                      -6.977428       4.026   \n",
       "4  436.775204  -7.820623                            NaN       2.236   \n",
       "\n",
       "   Muggle Studies  Ancient Runes  History of Magic  Transfiguration  \\\n",
       "0      272.035831     532.484226          5.231058      1039.788281   \n",
       "1     -487.340557     367.760303          4.107170      1058.944592   \n",
       "2      664.893521     602.585284          3.555579      1088.088348   \n",
       "3     -537.001128     523.982133         -4.809637       920.391449   \n",
       "4     -444.262537     599.324514         -3.444377       937.434724   \n",
       "\n",
       "   Unnamed: 14   Potions  Care of Magical Creatures     Charms  Flying  \n",
       "0          NaN  3.790369                   0.715939 -232.79405  -26.89  \n",
       "1          NaN  7.248742                   0.091674 -252.18425 -113.45  \n",
       "2          NaN  8.728531                  -0.515327 -227.34265   30.42  \n",
       "3          NaN  0.821911                  -0.014040 -256.84675  200.64  \n",
       "4          NaN  4.311066                  -0.264070 -256.38730  157.98  "
      ],
      "text/html": "<div>\n<style scoped>\n    .dataframe tbody tr th:only-of-type {\n        vertical-align: middle;\n    }\n\n    .dataframe tbody tr th {\n        vertical-align: top;\n    }\n\n    .dataframe thead th {\n        text-align: right;\n    }\n</style>\n<table border=\"1\" class=\"dataframe\">\n  <thead>\n    <tr style=\"text-align: right;\">\n      <th></th>\n      <th>Index</th>\n      <th>Hogwarts House</th>\n      <th>Last Name</th>\n      <th>Birthday</th>\n      <th>Best Hand</th>\n      <th>Arithmancy</th>\n      <th>Astronomy</th>\n      <th>Herbology</th>\n      <th>Defense Against the Dark Arts</th>\n      <th>Divination</th>\n      <th>Muggle Studies</th>\n      <th>Ancient Runes</th>\n      <th>History of Magic</th>\n      <th>Transfiguration</th>\n      <th>Unnamed: 14</th>\n      <th>Potions</th>\n      <th>Care of Magical Creatures</th>\n      <th>Charms</th>\n      <th>Flying</th>\n    </tr>\n  </thead>\n  <tbody>\n    <tr>\n      <th>0</th>\n      <td>0</td>\n      <td>Ravenclaw</td>\n      <td>Hsu</td>\n      <td>2000-03-30</td>\n      <td>Left</td>\n      <td>58384.0</td>\n      <td>-487.886086</td>\n      <td>5.727180</td>\n      <td>4.878861</td>\n      <td>4.722</td>\n      <td>272.035831</td>\n      <td>532.484226</td>\n      <td>5.231058</td>\n      <td>1039.788281</td>\n      <td>NaN</td>\n      <td>3.790369</td>\n      <td>0.715939</td>\n      <td>-232.79405</td>\n      <td>-26.89</td>\n    </tr>\n    <tr>\n      <th>1</th>\n      <td>1</td>\n      <td>Slytherin</td>\n      <td>Paredes</td>\n      <td>1999-10-14</td>\n      <td>Right</td>\n      <td>67239.0</td>\n      <td>-552.060507</td>\n      <td>-5.987446</td>\n      <td>5.520605</td>\n      <td>-5.612</td>\n      <td>-487.340557</td>\n      <td>367.760303</td>\n      <td>4.107170</td>\n      <td>1058.944592</td>\n      <td>NaN</td>\n      <td>7.248742</td>\n      <td>0.091674</td>\n      <td>-252.18425</td>\n      <td>-113.45</td>\n    </tr>\n    <tr>\n      <th>2</th>\n      <td>2</td>\n      <td>Ravenclaw</td>\n      <td>Braun</td>\n      <td>1999-11-03</td>\n      <td>Left</td>\n      <td>23702.0</td>\n      <td>-366.076117</td>\n      <td>7.725017</td>\n      <td>3.660761</td>\n      <td>6.140</td>\n      <td>664.893521</td>\n      <td>602.585284</td>\n      <td>3.555579</td>\n      <td>1088.088348</td>\n      <td>NaN</td>\n      <td>8.728531</td>\n      <td>-0.515327</td>\n      <td>-227.34265</td>\n      <td>30.42</td>\n    </tr>\n    <tr>\n      <th>3</th>\n      <td>3</td>\n      <td>Gryffindor</td>\n      <td>Mcmichael</td>\n      <td>2000-08-19</td>\n      <td>Left</td>\n      <td>32667.0</td>\n      <td>697.742809</td>\n      <td>-6.497214</td>\n      <td>-6.977428</td>\n      <td>4.026</td>\n      <td>-537.001128</td>\n      <td>523.982133</td>\n      <td>-4.809637</td>\n      <td>920.391449</td>\n      <td>NaN</td>\n      <td>0.821911</td>\n      <td>-0.014040</td>\n      <td>-256.84675</td>\n      <td>200.64</td>\n    </tr>\n    <tr>\n      <th>4</th>\n      <td>4</td>\n      <td>Gryffindor</td>\n      <td>Gibbs</td>\n      <td>1998-09-27</td>\n      <td>Left</td>\n      <td>60158.0</td>\n      <td>436.775204</td>\n      <td>-7.820623</td>\n      <td>NaN</td>\n      <td>2.236</td>\n      <td>-444.262537</td>\n      <td>599.324514</td>\n      <td>-3.444377</td>\n      <td>937.434724</td>\n      <td>NaN</td>\n      <td>4.311066</td>\n      <td>-0.264070</td>\n      <td>-256.38730</td>\n      <td>157.98</td>\n    </tr>\n  </tbody>\n</table>\n</div>"
     },
     "metadata": {},
     "execution_count": 64
    }
   ],
   "source": [
    "test.head()"
   ]
  },
  {
   "cell_type": "code",
   "execution_count": 69,
   "metadata": {},
   "outputs": [
    {
     "output_type": "execute_result",
     "data": {
      "text/plain": [
       "array([ 496.39494499,   -5.21589115,   -4.96394945,    5.855     ,\n",
       "       -626.55204113,  567.84240159,   -6.19866123,  925.25550039,\n",
       "                 nan,    1.08651782,    1.14703153, -252.27561   ,\n",
       "        244.11      ])"
      ]
     },
     "metadata": {},
     "execution_count": 69
    }
   ],
   "source": [
    "X[8]"
   ]
  },
  {
   "cell_type": "code",
   "execution_count": 68,
   "metadata": {},
   "outputs": [
    {
     "output_type": "stream",
     "name": "stdout",
     "text": [
      "0 Astronomy\n1 Herbology\n2 Defense Against the Dark Arts\n3 Divination\n4 Muggle Studies\n5 Ancient Runes\n6 History of Magic\n7 Transfiguration\n8 Unnamed: 14\n9 Potions\n10 Care of Magical Creatures\n11 Charms\n12 Flying\n"
     ]
    }
   ],
   "source": [
    "for i, f in enumerate(features):\n",
    "    print(i, f)"
   ]
  },
  {
   "cell_type": "code",
   "execution_count": null,
   "metadata": {},
   "outputs": [],
   "source": []
  }
 ]
}