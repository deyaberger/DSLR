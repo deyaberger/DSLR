{
 "metadata": {
  "language_info": {
   "codemirror_mode": {
    "name": "ipython",
    "version": 3
   },
   "file_extension": ".py",
   "mimetype": "text/x-python",
   "name": "python",
   "nbconvert_exporter": "python",
   "pygments_lexer": "ipython3",
   "version": "3.8.5"
  },
  "orig_nbformat": 2,
  "kernelspec": {
   "name": "python385jvsc74a57bd08e39635f1b7224350e28029758dd00aee7fd9123a8e7c8d9b4a9463076658cd2",
   "display_name": "Python 3.8.5 64-bit ('base': conda)"
  }
 },
 "nbformat": 4,
 "nbformat_minor": 2,
 "cells": [
  {
   "cell_type": "code",
   "execution_count": 383,
   "metadata": {},
   "outputs": [],
   "source": [
    "import pandas as pd\n",
    "import math\n",
    "import numpy as np\n",
    "from colorama import Fore\n",
    "from colorama import Style\n",
    "\n",
    "class Describe:\n",
    "    def __init__(self, name, dataset):\n",
    "        self.name = name\n",
    "        self.sorted_dataset = sorted(dataset)\n",
    "        self.count = len(dataset)\n",
    "        self.mean = sum(dataset) / self.count\n",
    "        self.std = self.calc_std(dataset)\n",
    "        self.min = self.sorted_dataset[0]\n",
    "        self.p_25 = self.calc_percentiles(25)\n",
    "        self.p_50 = self.calc_percentiles(50)\n",
    "        self.p_75 = self.calc_percentiles(75)\n",
    "        self.max = self.sorted_dataset[-1]\n",
    "    \n",
    "    def calc_std(self, dataset):\n",
    "        sum_squares = 0\n",
    "        for i in range(len(dataset)):\n",
    "            sum_squares += (dataset[i] - self.mean) ** 2\n",
    "        std = sum_squares / (self.count - 1)\n",
    "        std = std ** 0.5\n",
    "        return std\n",
    "    \n",
    "    def calc_percentiles(self, quartile):\n",
    "        position_floaty = (float(quartile) / 100) * (self.count - 1)\n",
    "        min_position = int(position_floaty)\n",
    "        max_position = min_position + 1\n",
    "        max_coef = position_floaty - min_position\n",
    "        if max_coef == 0.0:\n",
    "            return self.sorted_dataset[min_position]\n",
    "        min_coef = 1 - max_coef\n",
    "        result_min = (self.sorted_dataset[min_position] * min_coef)\n",
    "        result_max = (self.sorted_dataset[max_position] * max_coef)\n",
    "        return result_min + result_max\n",
    "    \n",
    "class PandasFeature:\n",
    "    def __init__(self, name, dataset):\n",
    "        p_25_index = 4\n",
    "        p_50_index = 5\n",
    "        p_75_index = 6\n",
    "        self.name = name\n",
    "        self.count = dataset.count()\n",
    "        self.mean = dataset.mean()\n",
    "        self.std = dataset.std()\n",
    "        self.min = dataset.min()\n",
    "        self.p_25 = dataset.describe()[p_25_index]\n",
    "        self.p_50 = dataset.describe()[p_50_index]\n",
    "        self.p_75 = dataset.describe()[p_75_index]\n",
    "        self.max = dataset.max()\n",
    "        \n",
    "def fill_final(final_df, elmio, df_feature):\n",
    "    final_df.at[\"count\", \"Mine\"], final_df.at[\"count\", \"Pandas\"], final_df.at[\"count\", \"Compare\"] = elmio.count, df_feature.count, (round(elmio.count, 4) == round(df_feature.count, 4))\n",
    "    final_df.at[\"mean\", \"Mine\"], final_df.at[\"mean\", \"Pandas\"], final_df.at[\"mean\", \"Compare\"] = elmio.mean, df_feature.mean, (round(elmio.mean, 4) == round(df_feature.mean, 4))\n",
    "    final_df.at[\"std\", \"Mine\"], final_df.at[\"std\", \"Pandas\"], final_df.at[\"std\", \"Compare\"] = elmio.std, df_feature.std, (round(elmio.std, 4) == round(df_feature.std, 4))\n",
    "    final_df.at[\"min\", \"Mine\"], final_df.at[\"min\", \"Pandas\"], final_df.at[\"min\", \"Compare\"] = elmio.min, df_feature.min, (round(elmio.min, 4) == round(df_feature.min, 4))\n",
    "    final_df.at[\"25%\", \"Mine\"], final_df.at[\"25%\", \"Pandas\"], final_df.at[\"25%\", \"Compare\"] = elmio.p_25, df_feature.p_25, (round(elmio.p_25, 4) == round(df_feature.p_25, 4))\n",
    "    final_df.at[\"50%\", \"Mine\"], final_df.at[\"50%\", \"Pandas\"], final_df.at[\"50%\", \"Compare\"] = elmio.p_50, df_feature.p_50, (round(elmio.p_50, 4) == round(df_feature.p_50, 4))\n",
    "    final_df.at[\"75%\", \"Mine\"], final_df.at[\"75%\", \"Pandas\"], final_df.at[\"75%\", \"Compare\"] = elmio.p_75, df_feature.p_75, (round(elmio.p_75, 4) == round(df_feature.p_75, 4))\n",
    "    final_df.at[\"max\", \"Mine\"], final_df.at[\"max\", \"Pandas\"], final_df.at[\"max\", \"Compare\"] = elmio.max, df_feature.max, (round(elmio.max, 4) == round(df_feature.max, 4))\n",
    "\n",
    "def good_or_not(val):\n",
    "    if (val == True and val.dtype == bool):\n",
    "        color = 'green'\n",
    "    elif (val == False and val.dtype == bool):\n",
    "        color = 'red'\n",
    "    else:\n",
    "        color = 'grey'\n",
    "    return 'color: %s' % color"
   ]
  },
  {
   "cell_type": "code",
   "execution_count": 384,
   "metadata": {},
   "outputs": [],
   "source": [
    "df = pd.read_csv(\"datasets/dataset_test.csv\")"
   ]
  },
  {
   "cell_type": "code",
   "execution_count": 429,
   "metadata": {},
   "outputs": [
    {
     "output_type": "execute_result",
     "data": {
      "text/plain": [
       "      Mine Pandas Compare\n",
       "count  0.0    NaN     NaN\n",
       "mean   NaN    NaN     NaN\n",
       "std    NaN    NaN     NaN\n",
       "min    NaN    NaN     NaN\n",
       "25%    NaN    NaN     NaN\n",
       "50%    NaN    NaN     NaN\n",
       "75%    NaN    NaN     NaN\n",
       "max    NaN    NaN     NaN"
      ],
      "text/html": "<div>\n<style scoped>\n    .dataframe tbody tr th:only-of-type {\n        vertical-align: middle;\n    }\n\n    .dataframe tbody tr th {\n        vertical-align: top;\n    }\n\n    .dataframe thead th {\n        text-align: right;\n    }\n</style>\n<table border=\"1\" class=\"dataframe\">\n  <thead>\n    <tr style=\"text-align: right;\">\n      <th></th>\n      <th>Mine</th>\n      <th>Pandas</th>\n      <th>Compare</th>\n    </tr>\n  </thead>\n  <tbody>\n    <tr>\n      <th>count</th>\n      <td>0.0</td>\n      <td>NaN</td>\n      <td>NaN</td>\n    </tr>\n    <tr>\n      <th>mean</th>\n      <td>NaN</td>\n      <td>NaN</td>\n      <td>NaN</td>\n    </tr>\n    <tr>\n      <th>std</th>\n      <td>NaN</td>\n      <td>NaN</td>\n      <td>NaN</td>\n    </tr>\n    <tr>\n      <th>min</th>\n      <td>NaN</td>\n      <td>NaN</td>\n      <td>NaN</td>\n    </tr>\n    <tr>\n      <th>25%</th>\n      <td>NaN</td>\n      <td>NaN</td>\n      <td>NaN</td>\n    </tr>\n    <tr>\n      <th>50%</th>\n      <td>NaN</td>\n      <td>NaN</td>\n      <td>NaN</td>\n    </tr>\n    <tr>\n      <th>75%</th>\n      <td>NaN</td>\n      <td>NaN</td>\n      <td>NaN</td>\n    </tr>\n    <tr>\n      <th>max</th>\n      <td>NaN</td>\n      <td>NaN</td>\n      <td>NaN</td>\n    </tr>\n  </tbody>\n</table>\n</div>"
     },
     "metadata": {},
     "execution_count": 429
    }
   ],
   "source": [
    "final_df = pd.DataFrame(index=[\"count\", \"mean\", \"std\", \"min\", \"25%\", \"50%\", \"75%\", \"max\"], columns=[\"Mine\", \"Pandas\", \"Compare\"])\n",
    "\n",
    "final_df"
   ]
  },
  {
   "cell_type": "code",
   "execution_count": 430,
   "metadata": {},
   "outputs": [
    {
     "output_type": "stream",
     "name": "stdout",
     "text": [
      "\n\nfeature = Index\n"
     ]
    },
    {
     "output_type": "error",
     "ename": "TypeError",
     "evalue": "__init__() takes 2 positional arguments but 3 were given",
     "traceback": [
      "\u001b[0;31m---------------------------------------------------------------------------\u001b[0m",
      "\u001b[0;31mTypeError\u001b[0m                                 Traceback (most recent call last)",
      "\u001b[0;32m<ipython-input-430-1c55b87914a4>\u001b[0m in \u001b[0;36m<module>\u001b[0;34m\u001b[0m\n\u001b[1;32m      8\u001b[0m         \u001b[0mfinal_df\u001b[0m \u001b[0;34m=\u001b[0m \u001b[0mpd\u001b[0m\u001b[0;34m.\u001b[0m\u001b[0mDataFrame\u001b[0m\u001b[0;34m(\u001b[0m\u001b[0mindex\u001b[0m\u001b[0;34m=\u001b[0m\u001b[0;34m[\u001b[0m\u001b[0;34m\"count\"\u001b[0m\u001b[0;34m,\u001b[0m \u001b[0;34m\"mean\"\u001b[0m\u001b[0;34m,\u001b[0m \u001b[0;34m\"std\"\u001b[0m\u001b[0;34m,\u001b[0m \u001b[0;34m\"min\"\u001b[0m\u001b[0;34m,\u001b[0m \u001b[0;34m\"25%\"\u001b[0m\u001b[0;34m,\u001b[0m \u001b[0;34m\"50%\"\u001b[0m\u001b[0;34m,\u001b[0m \u001b[0;34m\"75%\"\u001b[0m\u001b[0;34m,\u001b[0m \u001b[0;34m\"max\"\u001b[0m\u001b[0;34m]\u001b[0m\u001b[0;34m,\u001b[0m \u001b[0mcolumns\u001b[0m\u001b[0;34m=\u001b[0m\u001b[0;34m[\u001b[0m\u001b[0;34m\"Mine\"\u001b[0m\u001b[0;34m,\u001b[0m \u001b[0;34m\"Pandas\"\u001b[0m\u001b[0;34m,\u001b[0m \u001b[0;34m\"Compare\"\u001b[0m\u001b[0;34m]\u001b[0m\u001b[0;34m)\u001b[0m\u001b[0;34m\u001b[0m\u001b[0;34m\u001b[0m\u001b[0m\n\u001b[1;32m      9\u001b[0m         \u001b[0;32mif\u001b[0m \u001b[0mnp\u001b[0m\u001b[0;34m.\u001b[0m\u001b[0many\u001b[0m\u001b[0;34m(\u001b[0m\u001b[0mdataset\u001b[0m\u001b[0;34m)\u001b[0m\u001b[0;34m:\u001b[0m\u001b[0;34m\u001b[0m\u001b[0;34m\u001b[0m\u001b[0m\n\u001b[0;32m---> 10\u001b[0;31m             \u001b[0melmio\u001b[0m \u001b[0;34m=\u001b[0m \u001b[0mDescribe\u001b[0m\u001b[0;34m(\u001b[0m\u001b[0mfeature_name\u001b[0m\u001b[0;34m,\u001b[0m \u001b[0mdataset\u001b[0m\u001b[0;34m)\u001b[0m\u001b[0;34m\u001b[0m\u001b[0;34m\u001b[0m\u001b[0m\n\u001b[0m\u001b[1;32m     11\u001b[0m         \u001b[0;32melse\u001b[0m\u001b[0;34m:\u001b[0m\u001b[0;34m\u001b[0m\u001b[0;34m\u001b[0m\u001b[0m\n\u001b[1;32m     12\u001b[0m             \u001b[0mfinal_df\u001b[0m\u001b[0;34m.\u001b[0m\u001b[0mat\u001b[0m\u001b[0;34m[\u001b[0m\u001b[0;34m\"count\"\u001b[0m\u001b[0;34m,\u001b[0m \u001b[0;34m\"Mine\"\u001b[0m\u001b[0;34m]\u001b[0m \u001b[0;34m=\u001b[0m \u001b[0;36m0.0\u001b[0m\u001b[0;34m\u001b[0m\u001b[0;34m\u001b[0m\u001b[0m\n",
      "\u001b[0;31mTypeError\u001b[0m: __init__() takes 2 positional arguments but 3 were given"
     ]
    }
   ],
   "source": [
    "list_df = []\n",
    "describe_df = pd.DataFrame(index=list(df.index), columns=list(df.columns))\n",
    "for feature_name in df:\n",
    "    if df[feature_name].dtype == np.int or df[feature_name].dtype == np.float:\n",
    "        print(f\"\\n\\nfeature = {feature_name}\")\n",
    "        dataset = df[feature_name].to_numpy()\n",
    "        dataset = dataset[~np.isnan(dataset)]\n",
    "        final_df = pd.DataFrame(index=[\"count\", \"mean\", \"std\", \"min\", \"25%\", \"50%\", \"75%\", \"max\"], columns=[\"Mine\", \"Pandas\", \"Compare\"])\n",
    "        if np.any(dataset):\n",
    "            elmio = Describe(feature_name, dataset)\n",
    "        else:\n",
    "            final_df.at[\"count\", \"Mine\"] = 0.0\n",
    "        df_feature = PandasFeature(df[feature_name])\n",
    "        fill_final(final_df, elmio, df_feature)\n",
    "        colored_final_df = final_df.style.applymap(good_or_not)\n",
    "        display(colored_final_df)"
   ]
  },
  {
   "cell_type": "code",
   "execution_count": 424,
   "metadata": {},
   "outputs": [
    {
     "output_type": "execute_result",
     "data": {
      "text/plain": [
       "            Mine     Pandas Compare\n",
       "count        400        400    True\n",
       "mean    23.36745   23.36745    True\n",
       "std    95.185944  95.185944    True\n",
       "min      -143.52    -143.52    True\n",
       "25%      -38.475    -38.475    True\n",
       "50%       -2.555     -2.555    True\n",
       "75%      45.3325    45.3325    True\n",
       "max       282.43     282.43    True"
      ],
      "text/html": "<div>\n<style scoped>\n    .dataframe tbody tr th:only-of-type {\n        vertical-align: middle;\n    }\n\n    .dataframe tbody tr th {\n        vertical-align: top;\n    }\n\n    .dataframe thead th {\n        text-align: right;\n    }\n</style>\n<table border=\"1\" class=\"dataframe\">\n  <thead>\n    <tr style=\"text-align: right;\">\n      <th></th>\n      <th>Mine</th>\n      <th>Pandas</th>\n      <th>Compare</th>\n    </tr>\n  </thead>\n  <tbody>\n    <tr>\n      <th>count</th>\n      <td>400</td>\n      <td>400</td>\n      <td>True</td>\n    </tr>\n    <tr>\n      <th>mean</th>\n      <td>23.36745</td>\n      <td>23.36745</td>\n      <td>True</td>\n    </tr>\n    <tr>\n      <th>std</th>\n      <td>95.185944</td>\n      <td>95.185944</td>\n      <td>True</td>\n    </tr>\n    <tr>\n      <th>min</th>\n      <td>-143.52</td>\n      <td>-143.52</td>\n      <td>True</td>\n    </tr>\n    <tr>\n      <th>25%</th>\n      <td>-38.475</td>\n      <td>-38.475</td>\n      <td>True</td>\n    </tr>\n    <tr>\n      <th>50%</th>\n      <td>-2.555</td>\n      <td>-2.555</td>\n      <td>True</td>\n    </tr>\n    <tr>\n      <th>75%</th>\n      <td>45.3325</td>\n      <td>45.3325</td>\n      <td>True</td>\n    </tr>\n    <tr>\n      <th>max</th>\n      <td>282.43</td>\n      <td>282.43</td>\n      <td>True</td>\n    </tr>\n  </tbody>\n</table>\n</div>"
     },
     "metadata": {},
     "execution_count": 424
    }
   ],
   "source": [
    "final_df"
   ]
  },
  {
   "cell_type": "code",
   "execution_count": null,
   "metadata": {},
   "outputs": [],
   "source": []
  }
 ]
}