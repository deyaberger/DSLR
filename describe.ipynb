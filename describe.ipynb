{
 "metadata": {
  "language_info": {
   "codemirror_mode": {
    "name": "ipython",
    "version": 3
   },
   "file_extension": ".py",
   "mimetype": "text/x-python",
   "name": "python",
   "nbconvert_exporter": "python",
   "pygments_lexer": "ipython3",
   "version": "3.8.5"
  },
  "orig_nbformat": 2,
  "kernelspec": {
   "name": "python385jvsc74a57bd08e39635f1b7224350e28029758dd00aee7fd9123a8e7c8d9b4a9463076658cd2",
   "display_name": "Python 3.8.5 64-bit ('base': conda)"
  }
 },
 "nbformat": 4,
 "nbformat_minor": 2,
 "cells": [
  {
   "cell_type": "code",
   "execution_count": 72,
   "metadata": {},
   "outputs": [],
   "source": [
    "import pandas as pd\n",
    "import math\n",
    "import numpy as np\n",
    "from colorama import Fore\n",
    "from colorama import Style\n",
    "\n",
    "class Describe:\n",
    "    def __init__(self, name, dataset):\n",
    "        self.name = name\n",
    "        self.sorted_dataset = sorted(dataset)\n",
    "        self.count = len(dataset)\n",
    "        self.mean = sum(dataset) / self.count\n",
    "        self.std = self.calc_std(dataset)\n",
    "        self.min = self.sorted_dataset[0]\n",
    "        self.p_25 = self.calc_percentiles(25)\n",
    "        self.p_50 = self.calc_percentiles(50)\n",
    "        self.p_75 = self.calc_percentiles(75)\n",
    "        self.max = self.sorted_dataset[-1]\n",
    "        self.infos = [self.count, self.mean, self.std, self.min, self.p_25, self.p_50, self.p_75, self.max]\n",
    "    \n",
    "    def calc_std(self, dataset):\n",
    "        sum_squares = 0\n",
    "        for i in range(len(dataset)):\n",
    "            sum_squares += (dataset[i] - self.mean) ** 2\n",
    "        std = sum_squares / (self.count - 1)\n",
    "        std = std ** 0.5\n",
    "        return std\n",
    "    \n",
    "    def calc_percentiles(self, quartile):\n",
    "        position_floaty = (float(quartile) / 100) * (self.count - 1)\n",
    "        min_position = int(position_floaty)\n",
    "        max_position = min_position + 1\n",
    "        max_coef = position_floaty - min_position\n",
    "        if max_coef == 0.0:\n",
    "            return self.sorted_dataset[min_position]\n",
    "        min_coef = 1 - max_coef\n",
    "        result_min = (self.sorted_dataset[min_position] * min_coef)\n",
    "        result_max = (self.sorted_dataset[max_position] * max_coef)\n",
    "        return result_min + result_max      \n",
    "\n"
   ]
  },
  {
   "cell_type": "code",
   "execution_count": 65,
   "metadata": {},
   "outputs": [],
   "source": [
    "df = pd.read_csv(\"datasets/dataset_test.csv\")"
   ]
  },
  {
   "cell_type": "code",
   "execution_count": 66,
   "metadata": {},
   "outputs": [],
   "source": [
    "feature_name = 'Arithmancy'\n",
    "dataset = df[feature_name].to_numpy()\n",
    "dataset = dataset[~np.isnan(dataset)]\n",
    "feature_describe = Describe(feature_name, dataset)\n",
    "describe_df = pd.DataFrame(index=[\"count\", \"mean\", \"std\", \"min\", \"25%\", \"50%\", \"75%\", \"max\"], columns=list(df.columns))"
   ]
  },
  {
   "cell_type": "code",
   "execution_count": 70,
   "metadata": {},
   "outputs": [],
   "source": [
    "def add_feature_describe(describe_df, feature_describe):\n",
    "    for func, value in describe_df[feature_name].iteritems():\n",
    "        describe_df.at[func, feature_name] = feature_describe.__dict__[func]"
   ]
  },
  {
   "cell_type": "code",
   "execution_count": 71,
   "metadata": {},
   "outputs": [
    {
     "output_type": "error",
     "ename": "KeyError",
     "evalue": "'25%'",
     "traceback": [
      "\u001b[0;31m---------------------------------------------------------------------------\u001b[0m",
      "\u001b[0;31mKeyError\u001b[0m                                  Traceback (most recent call last)",
      "\u001b[0;32m<ipython-input-71-9f1421b0f434>\u001b[0m in \u001b[0;36m<module>\u001b[0;34m\u001b[0m\n\u001b[0;32m----> 1\u001b[0;31m \u001b[0madd_feature_describe\u001b[0m\u001b[0;34m(\u001b[0m\u001b[0mdescribe_df\u001b[0m\u001b[0;34m,\u001b[0m \u001b[0mfeature_describe\u001b[0m\u001b[0;34m)\u001b[0m\u001b[0;34m\u001b[0m\u001b[0;34m\u001b[0m\u001b[0m\n\u001b[0m",
      "\u001b[0;32m<ipython-input-70-ec6e475c5e76>\u001b[0m in \u001b[0;36madd_feature_describe\u001b[0;34m(describe_df, feature_describe)\u001b[0m\n\u001b[1;32m      1\u001b[0m \u001b[0;32mdef\u001b[0m \u001b[0madd_feature_describe\u001b[0m\u001b[0;34m(\u001b[0m\u001b[0mdescribe_df\u001b[0m\u001b[0;34m,\u001b[0m \u001b[0mfeature_describe\u001b[0m\u001b[0;34m)\u001b[0m\u001b[0;34m:\u001b[0m\u001b[0;34m\u001b[0m\u001b[0;34m\u001b[0m\u001b[0m\n\u001b[1;32m      2\u001b[0m     \u001b[0;32mfor\u001b[0m \u001b[0mfunc\u001b[0m\u001b[0;34m,\u001b[0m \u001b[0mvalue\u001b[0m \u001b[0;32min\u001b[0m \u001b[0mdescribe_df\u001b[0m\u001b[0;34m[\u001b[0m\u001b[0mfeature_name\u001b[0m\u001b[0;34m]\u001b[0m\u001b[0;34m.\u001b[0m\u001b[0miteritems\u001b[0m\u001b[0;34m(\u001b[0m\u001b[0;34m)\u001b[0m\u001b[0;34m:\u001b[0m\u001b[0;34m\u001b[0m\u001b[0;34m\u001b[0m\u001b[0m\n\u001b[0;32m----> 3\u001b[0;31m         \u001b[0mdescribe_df\u001b[0m\u001b[0;34m.\u001b[0m\u001b[0mat\u001b[0m\u001b[0;34m[\u001b[0m\u001b[0mfunc\u001b[0m\u001b[0;34m,\u001b[0m \u001b[0mfeature_name\u001b[0m\u001b[0;34m]\u001b[0m \u001b[0;34m=\u001b[0m \u001b[0mfeature_describe\u001b[0m\u001b[0;34m.\u001b[0m\u001b[0m__dict__\u001b[0m\u001b[0;34m[\u001b[0m\u001b[0mfunc\u001b[0m\u001b[0;34m]\u001b[0m\u001b[0;34m\u001b[0m\u001b[0;34m\u001b[0m\u001b[0m\n\u001b[0m",
      "\u001b[0;31mKeyError\u001b[0m: '25%'"
     ]
    }
   ],
   "source": [
    "add_feature_describe(describe_df, feature_describe)"
   ]
  },
  {
   "cell_type": "code",
   "execution_count": 40,
   "metadata": {},
   "outputs": [],
   "source": [
    "for feature_name in df:\n",
    "    if df[feature_name].dtype == np.int or df[feature_name].dtype == np.float:\n",
    "        dataset = df[feature_name].to_numpy()\n",
    "        dataset = dataset[~np.isnan(dataset)]\n",
    "        describe_df = pd.DataFrame(index=[\"count\", \"mean\", \"std\", \"min\", \"25%\", \"50%\", \"75%\", \"max\"], columns=list(df.columns))\n",
    "        if np.any(dataset):\n",
    "            feature_describe = Describe(feature_name, dataset)\n",
    "            add_feature_describe(describe_df, feature_describe)"
   ]
  },
  {
   "cell_type": "code",
   "execution_count": 73,
   "metadata": {},
   "outputs": [],
   "source": [
    "def fill_final(final_df, elmio, df_feature):\n",
    "    final_df.at[\"count\", \"Mine\"], final_df.at[\"count\", \"Pandas\"], final_df.at[\"count\", \"Compare\"] = elmio.count, df_feature.count, (round(elmio.count, 4) == round(df_feature.count, 4))\n",
    "    final_df.at[\"mean\", \"Mine\"], final_df.at[\"mean\", \"Pandas\"], final_df.at[\"mean\", \"Compare\"] = elmio.mean, df_feature.mean, (round(elmio.mean, 4) == round(df_feature.mean, 4))\n",
    "    final_df.at[\"std\", \"Mine\"], final_df.at[\"std\", \"Pandas\"], final_df.at[\"std\", \"Compare\"] = elmio.std, df_feature.std, (round(elmio.std, 4) == round(df_feature.std, 4))\n",
    "    final_df.at[\"min\", \"Mine\"], final_df.at[\"min\", \"Pandas\"], final_df.at[\"min\", \"Compare\"] = elmio.min, df_feature.min, (round(elmio.min, 4) == round(df_feature.min, 4))\n",
    "    final_df.at[\"25%\", \"Mine\"], final_df.at[\"25%\", \"Pandas\"], final_df.at[\"25%\", \"Compare\"] = elmio.p_25, df_feature.p_25, (round(elmio.p_25, 4) == round(df_feature.p_25, 4))\n",
    "    final_df.at[\"50%\", \"Mine\"], final_df.at[\"50%\", \"Pandas\"], final_df.at[\"50%\", \"Compare\"] = elmio.p_50, df_feature.p_50, (round(elmio.p_50, 4) == round(df_feature.p_50, 4))\n",
    "    final_df.at[\"75%\", \"Mine\"], final_df.at[\"75%\", \"Pandas\"], final_df.at[\"75%\", \"Compare\"] = elmio.p_75, df_feature.p_75, (round(elmio.p_75, 4) == round(df_feature.p_75, 4))\n",
    "    final_df.at[\"max\", \"Mine\"], final_df.at[\"max\", \"Pandas\"], final_df.at[\"max\", \"Compare\"] = elmio.max, df_feature.max, (round(elmio.max, 4) == round(df_feature.max, 4))"
   ]
  },
  {
   "cell_type": "code",
   "execution_count": 75,
   "metadata": {},
   "outputs": [],
   "source": [
    "    \n",
    "class PandasFeature:\n",
    "    def __init__(self, name, dataset):\n",
    "        p_25_index = 4\n",
    "        p_50_index = 5\n",
    "        p_75_index = 6\n",
    "        self.name = name\n",
    "        self.count = dataset.count()\n",
    "        self.mean = dataset.mean()\n",
    "        self.std = dataset.std()\n",
    "        self.min = dataset.min()\n",
    "        self.p_25 = dataset.describe()[p_25_index]\n",
    "        self.p_50 = dataset.describe()[p_50_index]\n",
    "        self.p_75 = dataset.describe()[p_75_index]\n",
    "        self.max = dataset.max()\n",
    "\n",
    "def good_or_not(val):\n",
    "    if (val == True and val.dtype == bool):\n",
    "        color = 'green'\n",
    "    elif (val == False and val.dtype == bool):\n",
    "        color = 'red'\n",
    "    else:\n",
    "        color = 'grey'\n",
    "    return 'color: %s' % color"
   ]
  },
  {
   "cell_type": "code",
   "execution_count": null,
   "metadata": {},
   "outputs": [],
   "source": []
  }
 ]
}