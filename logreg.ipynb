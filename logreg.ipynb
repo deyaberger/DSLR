{
 "metadata": {
  "language_info": {
   "codemirror_mode": {
    "name": "ipython",
    "version": 3
   },
   "file_extension": ".py",
   "mimetype": "text/x-python",
   "name": "python",
   "nbconvert_exporter": "python",
   "pygments_lexer": "ipython3",
   "version": "3.8.3"
  },
  "orig_nbformat": 2,
  "kernelspec": {
   "name": "python383jvsc74a57bd0b2be0b0f352541e0037497dc3ac059aae78abe45f3eab5e4b80a4fb086df619c",
   "display_name": "Python 3.8.3 64-bit (conda)"
  }
 },
 "nbformat": 4,
 "nbformat_minor": 2,
 "cells": [
  {
   "cell_type": "code",
   "execution_count": 57,
   "metadata": {},
   "outputs": [],
   "source": [
    "import pandas as pd\n",
    "import numpy as np\n",
    "from pandas import errors\n",
    "import describe\n",
    "from sklearn.model_selection import train_test_split"
   ]
  },
  {
   "cell_type": "code",
   "execution_count": 51,
   "metadata": {},
   "outputs": [],
   "source": [
    "class LogisticRegression:\n",
    "    \n",
    "    def __init__(self):\n",
    "        self.X = []\n",
    "        self.y = []\n",
    "        self.features = []\n",
    "        self.thetas = []\n",
    "        \n",
    "    def read_csv(self, datafile):\n",
    "        try:\n",
    "            df = pd.read_csv(datafile)\n",
    "            self.features = list(df.columns[6:8])\n",
    "            self.X = df[self.features].to_numpy()\n",
    "            self.y = df[\"Hogwarts House\"].to_numpy().reshape(-1, 1)\n",
    "            return self.X, self.y, self.features\n",
    "        except (FileNotFoundError, errors.EmptyDataError) as e:\n",
    "            print(e)\n",
    "        except KeyError as e:\n",
    "            print(f\"The csv file does not contain the expected column '{e}'\")\n",
    "    \n",
    "    def clean_data(self, X, y):\n",
    "        X_clean = []\n",
    "        y_clean = []\n",
    "        for i in range(X.shape[0]):\n",
    "            empty_value = 0\n",
    "            for j in range(X.shape[1]):\n",
    "                if X[i][j] != X[i][j]:\n",
    "                    empty_value = 1\n",
    "            if empty_value == 0:\n",
    "                X_clean.append(X[i])\n",
    "                y_clean.append(y[i])\n",
    "        X_clean = np.array(X_clean)\n",
    "        y_clean = np.array(y_clean)\n",
    "        return (X_clean, y_clean)\n",
    "    \n",
    "    def feature_scale_normalise(self, vector):\n",
    "        ### make sure the vector has no empty values\n",
    "        normed_vector = []\n",
    "        infos = describe.Feature(None, vector)\n",
    "        normed_vector = (vector - infos.mean) / infos.std\n",
    "        return normed_vector\n",
    "    \n",
    "    def split_data(self, X, y):\n",
    "        X_train, X_test, y_train, y_test = train_test_split(X, y, test_size=0.3, random_state=42)\n",
    "    "
   ]
  },
  {
   "cell_type": "code",
   "execution_count": 52,
   "metadata": {},
   "outputs": [],
   "source": [
    "model = LogisticRegression()"
   ]
  },
  {
   "cell_type": "code",
   "execution_count": 53,
   "metadata": {
    "tags": []
   },
   "outputs": [],
   "source": [
    "X, y, features = model.read_csv(\"datasets/dataset_train.csv\")\n",
    "X_clean, y_clean = model.clean_data(X, y)\n",
    "X_t = X_clean.T\n",
    "X_norm = []\n",
    "for i in range(X_t.shape[0]):\n",
    "    X_norm.append(model.feature_scale_normalise(X_t[i]))\n",
    "X_norm = np.array(X_norm).T"
   ]
  },
  {
   "cell_type": "code",
   "execution_count": 54,
   "metadata": {},
   "outputs": [
    {
     "output_type": "execute_result",
     "data": {
      "text/plain": [
       "(1535, 2)"
      ]
     },
     "metadata": {},
     "execution_count": 54
    }
   ],
   "source": [
    "X_norm.shape"
   ]
  },
  {
   "cell_type": "code",
   "execution_count": 316,
   "metadata": {},
   "outputs": [],
   "source": [
    "df = pd.read_csv(\"datasets/dataset_train.csv\")\n",
    "feature_name = \"Arithmancy\"\n",
    "dataset = describe.clear_empty_values(df[feature_name])\n",
    "feature = describe.Feature(feature_name, dataset)"
   ]
  },
  {
   "cell_type": "code",
   "execution_count": 357,
   "metadata": {},
   "outputs": [
    {
     "output_type": "execute_result",
     "data": {
      "text/plain": [
       "(1535, 2)"
      ]
     },
     "metadata": {},
     "execution_count": 357
    }
   ],
   "source": [
    "X_clean.shape"
   ]
  },
  {
   "cell_type": "code",
   "execution_count": 319,
   "metadata": {},
   "outputs": [
    {
     "output_type": "execute_result",
     "data": {
      "text/plain": [
       "array([58384., 67239., 23702., ..., 63905., 82713., 48639.])"
      ]
     },
     "metadata": {},
     "execution_count": 319
    }
   ],
   "source": [
    "dataset"
   ]
  },
  {
   "cell_type": "code",
   "execution_count": null,
   "metadata": {},
   "outputs": [],
   "source": []
  }
 ]
}