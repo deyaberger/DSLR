{
 "metadata": {
  "language_info": {
   "codemirror_mode": {
    "name": "ipython",
    "version": 3
   },
   "file_extension": ".py",
   "mimetype": "text/x-python",
   "name": "python",
   "nbconvert_exporter": "python",
   "pygments_lexer": "ipython3",
   "version": "3.8.3"
  },
  "orig_nbformat": 2,
  "kernelspec": {
   "name": "python383jvsc74a57bd0b2be0b0f352541e0037497dc3ac059aae78abe45f3eab5e4b80a4fb086df619c",
   "display_name": "Python 3.8.3 64-bit (conda)"
  }
 },
 "nbformat": 4,
 "nbformat_minor": 2,
 "cells": [
  {
   "cell_type": "code",
   "execution_count": 1,
   "metadata": {},
   "outputs": [],
   "source": [
    "import pandas as pd\n",
    "import numpy as np\n",
    "from pandas import errors\n",
    "import describe\n",
    "from sklearn.model_selection import train_test_split\n",
    "from sklearn.preprocessing import StandardScaler\n",
    "import math"
   ]
  },
  {
   "cell_type": "code",
   "execution_count": 54,
   "metadata": {},
   "outputs": [],
   "source": [
    "def sigmoid(x):\n",
    "    ret = 1 / (1 + np.exp(-x))\n",
    "    return(ret)"
   ]
  },
  {
   "cell_type": "code",
   "execution_count": 67,
   "metadata": {},
   "outputs": [],
   "source": [
    "class LogisticRegression:\n",
    "    \n",
    "    def __init__(self, datafile = None):\n",
    "        if datafile:\n",
    "            self.read_csv(datafile)\n",
    "        self.activation = sigmoid\n",
    "\n",
    "    def read_csv(self, datafile):\n",
    "        try:\n",
    "            df = pd.read_csv(datafile)\n",
    "            df.fillna(df.median(), inplace = True)\n",
    "            features = list(df.columns[6:8])\n",
    "            self.X = df[features].to_numpy()\n",
    "            one_hot_encoding = pd.get_dummies(df[\"Hogwarts House\"], drop_first = False)\n",
    "            self.houses = list(one_hot_encoding.columns)\n",
    "            self.y = one_hot_encoding.to_numpy()\n",
    "        except (FileNotFoundError, errors.EmptyDataError) as e:\n",
    "            print(e)\n",
    "        except KeyError as e:\n",
    "            print(f\"The csv file does not contain the expected column '{e}'\")\n",
    "    \n",
    "    def feature_scale_normalise(self):\n",
    "        self.scaler = StandardScaler()\n",
    "        self.scaler.fit(self.X)\n",
    "        self.X = self.scaler.transform(self.X)\n",
    "    \n",
    "    def split_data(self):\n",
    "        self.X_train, self.X_test, self.y_train, self.y_test = train_test_split(self.X, self.y, test_size=0.3, random_state=42)\n",
    "    \n",
    "    def init_weights(self):\n",
    "        self.thetas = np.zeros((self.X_train.shape[1], self.y_train.shape[1]))\n",
    "\n",
    "    def add_bias_units(self):\n",
    "        bias_units = np.ones((model.X.shape[0], 1))\n",
    "        self.X = np.concatenate((bias_units, self.X), axis = 1)\n",
    "    \n",
    "    def hypothesis(self, X):\n",
    "        z = np.matmul(X, self.thetas)\n",
    "        self.H = self.activation(z)\n",
    "    \n",
    "    def compute_loss_gradient(self, X, y):\n",
    "        error = self.H - y\n",
    "        self.loss_gradient = np.matmul(X.T, error) / len(X)\n",
    "\n",
    "    def gradient_descent(self):\n",
    "        self.thetas = self.thetas - (0.1 * self.loss_gradient)\n",
    "    \n",
    "    def fit(self):\n",
    "        for i in range(20):\n",
    "            self.hypothesis(self.X_train)\n",
    "            self.compute_loss_gradient(self.X_train, self.y_train)\n",
    "            self.gradient_descent()\n",
    "    \n",
    "    \n",
    "\n",
    "    \n",
    "    def __str__(self):\n",
    "        return(f\"{self.X.shape = }\\t\\t{self.y.shape = }\\n{self.X_train.shape = }\\t\\t{self.y_train.shape = }\\n{self.thetas.shape = }\")"
   ]
  },
  {
   "cell_type": "code",
   "execution_count": 68,
   "metadata": {},
   "outputs": [],
   "source": [
    "datafile = \"datasets/dataset_train.csv\"\n",
    "model = LogisticRegression(datafile)\n",
    "model.feature_scale_normalise()\n",
    "model.add_bias_units()\n",
    "model.split_data()\n",
    "model.init_weights()\n",
    "####\n",
    "model.fit()"
   ]
  },
  {
   "cell_type": "code",
   "execution_count": 81,
   "metadata": {},
   "outputs": [
    {
     "output_type": "stream",
     "name": "stdout",
     "text": [
      "0.4160714285714286\n"
     ]
    }
   ],
   "source": [
    "a = 0\n",
    "for i in range(len(model.H)):\n",
    "    x = model.H[i,:]\n",
    "    y = model.y_train[i, :]\n",
    "    if (np.argmax(x) != np.argmax(y)):\n",
    "        a += 1\n",
    "print(a / len(model.H))"
   ]
  },
  {
   "cell_type": "code",
   "execution_count": 77,
   "metadata": {},
   "outputs": [
    {
     "output_type": "execute_result",
     "data": {
      "text/plain": [
       "array([[-1.89078142, -1.36447216, -1.68910461, -2.11913588],\n",
       "       [ 0.14158761,  0.23159357,  0.06794665,  0.01938257],\n",
       "       [ 1.54198864,  1.86476071, -1.83321016, -1.62623449]])"
      ]
     },
     "metadata": {},
     "execution_count": 77
    }
   ],
   "source": [
    "model.thetas"
   ]
  },
  {
   "cell_type": "code",
   "execution_count": 78,
   "metadata": {
    "tags": []
   },
   "outputs": [
    {
     "output_type": "error",
     "ename": "TypeError",
     "evalue": "cannot unpack non-iterable NoneType object",
     "traceback": [
      "\u001b[0;31m---------------------------------------------------------------------------\u001b[0m",
      "\u001b[0;31mTypeError\u001b[0m                                 Traceback (most recent call last)",
      "\u001b[0;32m<ipython-input-78-27f7a624cc03>\u001b[0m in \u001b[0;36m<module>\u001b[0;34m\u001b[0m\n\u001b[0;32m----> 1\u001b[0;31m \u001b[0mX\u001b[0m\u001b[0;34m,\u001b[0m \u001b[0my\u001b[0m\u001b[0;34m,\u001b[0m \u001b[0mfeatures\u001b[0m \u001b[0;34m=\u001b[0m \u001b[0mmodel\u001b[0m\u001b[0;34m.\u001b[0m\u001b[0mread_csv\u001b[0m\u001b[0;34m(\u001b[0m\u001b[0;34m\"datasets/dataset_train.csv\"\u001b[0m\u001b[0;34m)\u001b[0m\u001b[0;34m\u001b[0m\u001b[0;34m\u001b[0m\u001b[0m\n\u001b[0m\u001b[1;32m      2\u001b[0m \u001b[0mX_clean\u001b[0m\u001b[0;34m,\u001b[0m \u001b[0my_clean\u001b[0m \u001b[0;34m=\u001b[0m \u001b[0mmodel\u001b[0m\u001b[0;34m.\u001b[0m\u001b[0mclean_data\u001b[0m\u001b[0;34m(\u001b[0m\u001b[0mX\u001b[0m\u001b[0;34m,\u001b[0m \u001b[0my\u001b[0m\u001b[0;34m)\u001b[0m\u001b[0;34m\u001b[0m\u001b[0;34m\u001b[0m\u001b[0m\n\u001b[1;32m      3\u001b[0m \u001b[0mX_t\u001b[0m \u001b[0;34m=\u001b[0m \u001b[0mX_clean\u001b[0m\u001b[0;34m.\u001b[0m\u001b[0mT\u001b[0m\u001b[0;34m\u001b[0m\u001b[0;34m\u001b[0m\u001b[0m\n\u001b[1;32m      4\u001b[0m \u001b[0mX_norm\u001b[0m \u001b[0;34m=\u001b[0m \u001b[0;34m[\u001b[0m\u001b[0;34m]\u001b[0m\u001b[0;34m\u001b[0m\u001b[0;34m\u001b[0m\u001b[0m\n\u001b[1;32m      5\u001b[0m \u001b[0;32mfor\u001b[0m \u001b[0mi\u001b[0m \u001b[0;32min\u001b[0m \u001b[0mrange\u001b[0m\u001b[0;34m(\u001b[0m\u001b[0mX_t\u001b[0m\u001b[0;34m.\u001b[0m\u001b[0mshape\u001b[0m\u001b[0;34m[\u001b[0m\u001b[0;36m0\u001b[0m\u001b[0;34m]\u001b[0m\u001b[0;34m)\u001b[0m\u001b[0;34m:\u001b[0m\u001b[0;34m\u001b[0m\u001b[0;34m\u001b[0m\u001b[0m\n",
      "\u001b[0;31mTypeError\u001b[0m: cannot unpack non-iterable NoneType object"
     ]
    }
   ],
   "source": [
    "X, y, features = model.read_csv(\"datasets/dataset_train.csv\")\n",
    "X_clean, y_clean = model.clean_data(X, y)\n",
    "X_t = X_clean.T\n",
    "X_norm = []\n",
    "for i in range(X_t.shape[0]):\n",
    "    X_norm.append(model.feature_scale_normalise(X_t[i]))\n",
    "X_norm = np.array(X_norm).T\n",
    "X_train, X_test, y_train, y_test = model.split_data(X_norm, y_clean)\n",
    "model.thetas = np.zeros((X_train.shape[1] + 1, model.houses.size))"
   ]
  },
  {
   "cell_type": "code",
   "execution_count": 89,
   "metadata": {},
   "outputs": [
    {
     "output_type": "execute_result",
     "data": {
      "text/plain": [
       "array(['Gryffindor'], dtype=object)"
      ]
     },
     "metadata": {},
     "execution_count": 89
    }
   ],
   "source": [
    "y_train[2]"
   ]
  },
  {
   "cell_type": "code",
   "execution_count": 78,
   "metadata": {},
   "outputs": [
    {
     "output_type": "execute_result",
     "data": {
      "text/plain": [
       "4"
      ]
     },
     "metadata": {},
     "execution_count": 78
    }
   ],
   "source": [
    "model.houses.size"
   ]
  },
  {
   "cell_type": "code",
   "execution_count": null,
   "metadata": {},
   "outputs": [],
   "source": []
  }
 ]
}